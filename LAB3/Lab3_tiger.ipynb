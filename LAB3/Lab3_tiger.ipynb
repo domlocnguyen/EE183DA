{
 "cells": [
  {
   "cell_type": "code",
   "execution_count": null,
   "metadata": {},
   "outputs": [],
   "source": [
    "# EE183DA - Lab 3\n",
    "# Tiger group\n",
    "# Loc Nguyen\n",
    "# Huu Ngoc Tam Phan\n",
    "# Tien Doan\n",
    "# Man I Pang"
   ]
  },
  {
   "cell_type": "code",
   "execution_count": 1,
   "metadata": {},
   "outputs": [
    {
     "name": "stdout",
     "output_type": "stream",
     "text": [
      "Number of state in State Space: 432.\n",
      "Number of action in Action Space: 7\n"
     ]
    }
   ],
   "source": [
    "import numpy as np\n",
    "import matplotlib.pyplot as plt\n",
    "\n",
    "# 2.1a Create State Space\n",
    "# Define the grid world\n",
    "L = 6\n",
    "W = 6\n",
    "goal = [4,4]\n",
    "\n",
    "# State s = (x, y, h) including x value, y value and the heading angle h=0:11\n",
    "# Create State Space with all possible x,y,h\n",
    "S = []\n",
    "for x in range(L):\n",
    "    for y in range(W):\n",
    "        for h in range(12):\n",
    "            S.append((x, y, h))\n",
    "            \n",
    "# Size of the State Space\n",
    "Ns = len(S)  \n",
    "print('Number of state in State Space: %d.' % Ns)\n",
    "\n",
    "# 2.1a Create State Space\n",
    "# Define moving actions\n",
    "NO_MOVE = 0\n",
    "FW = 1\n",
    "BW = -1\n",
    "# Define rotating actions\n",
    "NO_TURN = 0\n",
    "LT = -1\n",
    "RT = 1\n",
    "# Action a = (move, turn)\n",
    "A = [];\n",
    "for move in [NO_MOVE, FW, BW]:\n",
    "    if move != NO_MOVE:\n",
    "        for turn in [NO_TURN, LT, RT]:\n",
    "            A.append((move, turn))\n",
    "    else:\n",
    "        A.append((NO_MOVE, NO_TURN))\n",
    "\n",
    "# Size of the Action Space\n",
    "Na = len(A)\n",
    "print('Number of action in Action Space: %d' % Na)"
   ]
  },
  {
   "cell_type": "code",
   "execution_count": 2,
   "metadata": {},
   "outputs": [],
   "source": [
    "# 2.1c Function that return probability psa given pe,s,a,s'\n",
    "def psa_func(s, a, s_prime, pe=0.0):\n",
    "    # Probability of not pre_rotate is 1-2pe, so pe <= 0.5\n",
    "    if (pe > 0.5 or pe < 0):\n",
    "        raise ValueError('Probability (pe) must be between 0 and 0.5')\n",
    "    \n",
    "    # Calculate the moving direction after pre_rotating for 12 cases of heading\n",
    "    # P_direction[h] = [not pre_rotate,rotate right,rotate left]\n",
    "    # P_direction[h] = [(h,1-2*pe,[delta_x,delta_y]),(h+1,pe,[delta_x,delta_y]),(h-1,pe,[delta_x,delta_y])] \n",
    "    \n",
    "    P_direction = {}\n",
    "    \n",
    "    # function returning the change in direction if go FW with the heading angle h\n",
    "    def angle2dir(h):\n",
    "        pos = [0,0]\n",
    "        if (h == 11 or h == 0 or h == 1): pos[1] = 1\n",
    "        if (h == 7 or h == 6 or h == 5): pos[1] = -1\n",
    "        if (h == 2 or h == 3 or h == 4): pos[0] = 1\n",
    "        if (h == 10 or h == 9 or h == 8): pos[0] = -1\n",
    "        return pos\n",
    "    \n",
    "    for i in range(12):\n",
    "        P_direction[i]= [(i, 1-2*pe, angle2dir(i)), ((i+1)%12, pe, angle2dir((i+1)%12)), ((i+11)%12, pe, angle2dir((i+11)%12))]\n",
    "      \n",
    "    # Calculate all possible furture states and store in P\n",
    "    P = {}                # P[(x, y, h)] = p_sa \n",
    "    if a[0] == FW:\n",
    "        for direction in P_direction[s[2]]:\n",
    "            # check if move out of grid then stay still\n",
    "            xd = s[0] + direction[2][0] if ((s[0] + direction[2][0]<=L-1) and (s[0] + direction[2][0]>=0)) else s[0]\n",
    "            yd = s[1] + direction[2][1] if ((s[1] + direction[2][1]<=W-1) and (s[1] + direction[2][1]>=0)) else s[1]\n",
    "            hd = (direction[0] + a[1]) % 12\n",
    "            P[(xd, yd, hd)] = direction[1]\n",
    "            \n",
    "    elif a[0] == BW:        \n",
    "        for direction in P_direction[s[2]]:\n",
    "            # check if move out of grid then stay still\n",
    "            xd = s[0] - direction[2][0] if ((s[0] - direction[2][0]<=L-1) and (s[0] - direction[2][0]>=0)) else s[0]\n",
    "            yd = s[1] - direction[2][1] if ((s[1] - direction[2][1]<=W-1) and (s[1] - direction[2][1]>=0)) else s[1]\n",
    "            hd = (direction[0] + a[1]) % 12\n",
    "            P[(xd, yd, hd)] = direction[1]    \n",
    "            \n",
    "    else:\n",
    "        # NO_MOVE\n",
    "        P[s] = 1\n",
    "    \n",
    "    # Find s_prime is P for psa\n",
    "    if s_prime in P.keys():\n",
    "        return P[s_prime]\n",
    "    else:\n",
    "        return 0.0"
   ]
  },
  {
   "cell_type": "code",
   "execution_count": 3,
   "metadata": {},
   "outputs": [
    {
     "name": "stdout",
     "output_type": "stream",
     "text": [
      "Action: (0, 0)\n",
      "P:  0.0\n",
      "Action: (1, 0)\n",
      "P:  0.2\n",
      "Action: (1, -1)\n",
      "P:  0.0\n",
      "Action: (1, 1)\n",
      "P:  0.6\n",
      "Action: (-1, 0)\n",
      "P:  0.0\n",
      "Action: (-1, -1)\n",
      "P:  0.0\n",
      "Action: (-1, 1)\n",
      "P:  0.0\n"
     ]
    }
   ],
   "source": [
    "# Test the psa_func(), given s, s' and pe, \n",
    "# print all the probability for each action in Action Space to go from s to s'\n",
    "s = (2,3,0)\n",
    "s_prime = (2,4,1) \n",
    "pe = 0.2\n",
    "for a in A: \n",
    "    p = psa_func(s, a, s_prime,pe) \n",
    "    print(\"Action:\",a) \n",
    "    print(\"P: \",p)\n",
    "    "
   ]
  },
  {
   "cell_type": "code",
   "execution_count": 4,
   "metadata": {},
   "outputs": [],
   "source": [
    "# 2.1d Calculate the next state s' given pe,s,a using psa_func()\n",
    "# This method is slow because it needs to scan all possible next states (3*3*5=45)\n",
    "# means calling psa_function 30 times to find the next state\n",
    "def next_state(s, a, pe = 0.0):\n",
    "    ns = {}\n",
    "    # Create Possible Next State Space\n",
    "    PNS = []\n",
    "    for x in [s[0]-1,s[0],s[0]+1]:\n",
    "        for y in [s[1]-1,s[1],s[1]+1]:\n",
    "            for h in [s[2]-2,s[2]-1,s[2],s[2]+1,s[2]+2]:\n",
    "                PNS.append((x, y, h))\n",
    "    for s_prime in PNS:\n",
    "        p=psa_func(s,a,s_prime,pe)\n",
    "        if p!=0 :\n",
    "            ns[(p,s_prime)]=s_prime            \n",
    "    return ns"
   ]
  },
  {
   "cell_type": "code",
   "execution_count": 5,
   "metadata": {},
   "outputs": [
    {
     "name": "stdout",
     "output_type": "stream",
     "text": [
      "action: (0, 0)\n",
      "[(1, (1, 4, 6))]\n",
      "action: (1, 0)\n",
      "[(0.3, (1, 3, 5)), (0.4, (1, 3, 6)), (0.3, (1, 3, 7))]\n",
      "action: (1, -1)\n",
      "[(0.3, (1, 3, 4)), (0.4, (1, 3, 5)), (0.3, (1, 3, 6))]\n",
      "action: (1, 1)\n",
      "[(0.3, (1, 3, 6)), (0.4, (1, 3, 7)), (0.3, (1, 3, 8))]\n",
      "action: (-1, 0)\n",
      "[(0.3, (1, 5, 5)), (0.4, (1, 5, 6)), (0.3, (1, 5, 7))]\n",
      "action: (-1, -1)\n",
      "[(0.3, (1, 5, 4)), (0.4, (1, 5, 5)), (0.3, (1, 5, 6))]\n",
      "action: (-1, 1)\n",
      "[(0.3, (1, 5, 6)), (0.4, (1, 5, 7)), (0.3, (1, 5, 8))]\n"
     ]
    }
   ],
   "source": [
    "# Test the next_state() function\n",
    "# Print the next_state of the current state (2,2,6) with all the action in Action Space\n",
    "s = (1,4,6)\n",
    "for a in A: \n",
    "    ns = next_state(s, a,0.3) \n",
    "    print(\"action:\",a) \n",
    "    print(list(ns.keys()))"
   ]
  },
  {
   "cell_type": "code",
   "execution_count": 6,
   "metadata": {},
   "outputs": [],
   "source": [
    "# 2.1d' Calculate the next state s' given pe,s,a\n",
    "# This method is much faster, same time for 1 psa_func()\n",
    "# 30 times faster than the previous method\n",
    "def fnext_state(s, a, pe = 0.0):\n",
    "    # Probability of not pre_rotate is 1-2pe, so pe <= 0.5\n",
    "    if (pe > 0.5 or pe < 0):\n",
    "        raise ValueError('Probability (pe) must be between 0 and 0.5')\n",
    "    \n",
    "    # Calculate the moving direction after pre_rotating for 12 cases of heading\n",
    "    # P_direction[h] = [not pre_rotate,rotate right,rotate left]\n",
    "    # P_direction[h] = [(h,1-2*pe,[delta_x,delta_y]),(h+1,pe,[delta_x,delta_y]),(h-1,pe,[delta_x,delta_y])] \n",
    "    \n",
    "    # function returning the changing in direction if go FW with the heading angle h\n",
    "    def angle2dir(h):\n",
    "        pos = [0,0]\n",
    "        if (h == 11 or h == 0 or h == 1): pos[1] = 1\n",
    "        if (h == 7 or h == 6 or h == 5): pos[1] = -1\n",
    "        if (h == 2 or h == 3 or h == 4): pos[0] = 1\n",
    "        if (h == 10 or h == 9 or h == 8): pos[0] = -1\n",
    "        return pos\n",
    "    \n",
    "    P_direction = {}\n",
    "    for i in range(12):\n",
    "        P_direction[i]= [(i, 1-2*pe, angle2dir(i)), ((i+1)%12, pe, angle2dir((i+1)%12)), ((i+11)%12, pe, angle2dir((i+11)%12))]\n",
    "        \n",
    "    # Calculate all possible furture states and store in P\n",
    "    P = {}                # P[psa] = s' \n",
    "    if a[0] == FW:\n",
    "        for direction in P_direction[s[2]]:\n",
    "            # check if move out of grid then stay still\n",
    "            xd = s[0] + direction[2][0] if ((s[0] + direction[2][0]<=L-1) and (s[0] + direction[2][0]>=0)) else s[0]\n",
    "            yd = s[1] + direction[2][1] if ((s[1] + direction[2][1]<=W-1) and (s[1] + direction[2][1]>=0)) else s[1]\n",
    "            hd = (direction[0] + a[1]) % 12\n",
    "            if direction[1]!=0:\n",
    "                P[(direction[1],(xd, yd, hd))] = (xd, yd, hd) \n",
    "            \n",
    "            \n",
    "    elif a[0] == BW:        \n",
    "        for direction in P_direction[s[2]]:\n",
    "            # check if move out of grid then stay still\n",
    "            xd = s[0] - direction[2][0] if ((s[0] - direction[2][0]<=L-1) and (s[0] - direction[2][0]>=0)) else s[0]\n",
    "            yd = s[1] - direction[2][1] if ((s[1] - direction[2][1]<=W-1) and (s[1] - direction[2][1]>=0)) else s[1]\n",
    "            hd = (direction[0] + a[1]) % 12\n",
    "            if direction[1] !=0.0:\n",
    "                P[(direction[1],(xd, yd, hd))] = (xd, yd, hd)\n",
    "            \n",
    "    else:\n",
    "        # NO_MOVE\n",
    "        P[(1.0, s)] = s\n",
    "    # return all the possible s'\n",
    "    return P"
   ]
  },
  {
   "cell_type": "code",
   "execution_count": 7,
   "metadata": {},
   "outputs": [
    {
     "name": "stdout",
     "output_type": "stream",
     "text": [
      "action: (0, 0)\n",
      "[(1.0, (1, 4, 6))]\n",
      "action: (1, 0)\n",
      "[(0.4, (1, 3, 6)), (0.3, (1, 3, 7)), (0.3, (1, 3, 5))]\n",
      "action: (1, -1)\n",
      "[(0.4, (1, 3, 5)), (0.3, (1, 3, 6)), (0.3, (1, 3, 4))]\n",
      "action: (1, 1)\n",
      "[(0.4, (1, 3, 7)), (0.3, (1, 3, 8)), (0.3, (1, 3, 6))]\n",
      "action: (-1, 0)\n",
      "[(0.4, (1, 5, 6)), (0.3, (1, 5, 7)), (0.3, (1, 5, 5))]\n",
      "action: (-1, -1)\n",
      "[(0.4, (1, 5, 5)), (0.3, (1, 5, 6)), (0.3, (1, 5, 4))]\n",
      "action: (-1, 1)\n",
      "[(0.4, (1, 5, 7)), (0.3, (1, 5, 8)), (0.3, (1, 5, 6))]\n"
     ]
    }
   ],
   "source": [
    "# Test the fnext_state() function\n",
    "# Print the next_state of the current state (2,2,6) with all the action in Action Space\n",
    "s = (1,4,6)\n",
    "for a in A: \n",
    "    ns = fnext_state(s, a, 0.3) \n",
    "    print(\"action:\",a)     \n",
    "    print(list(ns.keys()))"
   ]
  },
  {
   "cell_type": "code",
   "execution_count": 8,
   "metadata": {},
   "outputs": [],
   "source": [
    "# 2.2a reward function\n",
    "def reward(s):\n",
    "    # Build reward map\n",
    "    R_map = [(-100,-100,-100,-100,-100,-100),\n",
    "             (-100,0   ,0   ,-10 , 1  ,-100),\n",
    "             (-100,0   ,0   ,-10 , 0  ,-100),\n",
    "             (-100,0   ,0   ,0   , 0  ,-100),\n",
    "             (-100,0   ,0   ,0   , 0  ,-100),\n",
    "             (-100,-100,-100,-100,-100,-100)]\n",
    "    return R_map[W-s[1]-1][s[0]]"
   ]
  },
  {
   "cell_type": "code",
   "execution_count": 9,
   "metadata": {},
   "outputs": [],
   "source": [
    "# 2.3a Array of action prescribed by the initial policy\n",
    "# Start with an initial policy\n",
    "def init_policy():\n",
    "    policy = {}    \n",
    "    for s in S:\n",
    "        # Vector from current state to the goal\n",
    "        dir_vector = [goal[0] - s[0], goal[1] - s[1]]\n",
    "    \n",
    "        # dir_vector = [0,0] means it has reached the goal\n",
    "        if dir_vector == [0, 0]:\n",
    "            policy[s] = (NO_MOVE, NO_TURN)\n",
    "        \n",
    "        # Calculate for moving direction\n",
    "        # +y direction\n",
    "        if s[2] in [11, 0, 1]:\n",
    "            move = FW if (dir_vector[1]>=0 or dir_vector[0]==0) else BW\n",
    "        # -y direction\n",
    "        if s[2] in [5, 6, 7]:\n",
    "            move = FW if (dir_vector[1]<=0 or dir_vector[0]==0) else BW\n",
    "        # +x direction\n",
    "        if s[2] in [2, 3, 4]:\n",
    "            move = FW if (dir_vector[0]>=0 or dir_vector[1]==0) else BW\n",
    "        # -x direction\n",
    "        if s[2] in [8, 9, 10]:\n",
    "            move = FW if (dir_vector[0]<=0 or dir_vector[1]==0) else BW\n",
    "        \n",
    "    \n",
    "        # Calculate turning angle\n",
    "        # angle of direction vector from current state to goal\n",
    "        th = np.arctan2(dir_vector[1], dir_vector[0])*180/np.pi\n",
    "        # different between current state heading to the direction vector\n",
    "        thd = s[2]*30-(90 - th)\n",
    "        if (thd > 0) and (thd < 180):\n",
    "            turn = LT\n",
    "        elif (thd == 0) or (thd == 180):\n",
    "            turn = NO_TURN\n",
    "        else:\n",
    "            turn = RT\n",
    "        \n",
    "        policy[s] = (move, turn)\n",
    "    return policy\n",
    "\n",
    "policy = init_policy()"
   ]
  },
  {
   "cell_type": "code",
   "execution_count": 10,
   "metadata": {},
   "outputs": [],
   "source": [
    "# 2.3b Function that generate and plot a trajectory of robot\n",
    "# given initial policy, initial state, and pe\n",
    "def trajectory(i_policy, i_s, goal, pe=0.0):\n",
    "    # Probability of not pre_rotate is 1-2pe, so pe <= 0.5\n",
    "    if (pe > 0.5 or pe < 0):\n",
    "        raise ValueError('Probability (pe) must be between 0 and 0.5')\n",
    "        \n",
    "    # Generate the trajectory\n",
    "    traj = []\n",
    "    curr_s = i_s\n",
    "    while True:\n",
    "        traj.append([curr_s, i_policy[curr_s]])\n",
    "        if (i_policy[curr_s] == (0, 0)):\n",
    "            break\n",
    "        if (curr_s[0] == goal[0]) and (curr_s[1] == goal[1]):\n",
    "            break\n",
    "        P_ns = fnext_state(curr_s, i_policy[curr_s], pe)\n",
    "        # find the best next state to go\n",
    "        best_s = max(P_ns.keys())\n",
    "        curr_s = P_ns[best_s]\n",
    "        \n",
    "    # Draw grid map\n",
    "    fig = plt.figure(figsize = (L,W))\n",
    "    ax = fig.add_subplot(1,1,1)\n",
    "    plt.xlim((0, L))\n",
    "    plt.ylim((0, W))\n",
    "    plt.grid(True, color = 'k')\n",
    "\n",
    "    # Plot red markers at edges\n",
    "    edge1 = plt.Rectangle((0,0), 1, 6, color = 'r')\n",
    "    edge2 = plt.Rectangle((1,0), 5, 1, color = 'r')\n",
    "    edge3 = plt.Rectangle((5,1), 1, 5, color = 'r')\n",
    "    edge4 = plt.Rectangle((1,5), 4, 1, color = 'r')\n",
    "    ax.add_patch(edge1)\n",
    "    ax.add_patch(edge2)\n",
    "    ax.add_patch(edge3)\n",
    "    ax.add_patch(edge4)\n",
    "\n",
    "    # Plot yellow markers\n",
    "    yellow = plt.Rectangle((3,3), 1, 2, color = 'y')\n",
    "    ax.add_patch(yellow)\n",
    "    \n",
    "    # Plot green goal\n",
    "    goal = plt.Rectangle((4,4), 1, 1, color = 'g')\n",
    "    ax.add_patch(goal)\n",
    "        \n",
    "    # Plot the start state\n",
    "    plt.plot(i_s[0]+0.5, i_s[1]+0.5, 'o', markersize = '10')\n",
    "    ax.arrow(i_s[0]+0.5, i_s[1]+0.5, 0.4*np.sin(30*i_s[2]*np.pi/180),0.4*np.cos(30*i_s[2]*np.pi/180), \\\n",
    "             head_width = 0.1, head_length = 0.2, fc = 'k', ec = 'k')\n",
    "    \n",
    "    # Plot all passing states\n",
    "    for i in range(1, len(traj)):\n",
    "        x1 = traj[i-1][0][0]\n",
    "        y1 = traj[i-1][0][1]\n",
    "        x2 = traj[i][0][0]\n",
    "        y2 = traj[i][0][1]\n",
    "        h = traj[i][0][2]\n",
    "        plt.plot([x1+0.5, x2+0.5], [y1+0.5, y2+0.5], 'k--')\n",
    "        plt.plot(x2+0.5, y2+0.5, 'o', markersize = '10')\n",
    "        ax.arrow(x2+0.5, y2+0.5, 0.4*np.sin(30*h*np.pi/180),0.4*np.cos(30*h*np.pi/180), \\\n",
    "                 head_width = 0.1, head_length = 0.2, fc = 'k', ec = 'k')\n",
    "    \n",
    "    plt.show()\n",
    "    return traj\n",
    "    "
   ]
  },
  {
   "cell_type": "code",
   "execution_count": 11,
   "metadata": {},
   "outputs": [
    {
     "data": {
      "image/png": "[encoded data removed]",
      "text/plain": [
       "<Figure size 432x432 with 1 Axes>"
      ]
     },
     "metadata": {
      "needs_background": "light"
     },
     "output_type": "display_data"
    },
    {
     "name": "stdout",
     "output_type": "stream",
     "text": [
      "Trajectory (state, action) from (1, 4, 6) to [4, 4] is:  [[(1, 4, 6), (1, -1)], [(1, 3, 5), (-1, -1)], [(1, 4, 4), (1, -1)], [(2, 4, 3), (1, 0)], [(3, 4, 3), (1, 0)], [(4, 4, 3), (1, 0)]]\n"
     ]
    }
   ],
   "source": [
    "# 2.3c Plot trajectory starting at x=1,y=4,h=6, pe=0\n",
    "s0 = (1, 4, 6)\n",
    "policy = init_policy()\n",
    "result = trajectory(policy, s0, goal, pe=0.0)\n",
    "print(\"Trajectory (state, action) from\", str(s0), \"to\", str(goal),'is: ', result)"
   ]
  },
  {
   "cell_type": "code",
   "execution_count": 12,
   "metadata": {},
   "outputs": [],
   "source": [
    "# 2.3d Policy evaluation\n",
    "# evaluation will stop when the value function is less than theta\n",
    "# return {S: V} representing the value function.\n",
    "def policy_eval(policy, reward_f, pe, discount_factor, accuracy=0.01):\n",
    "    \n",
    "    # Initial with all 0 value in V\n",
    "    V = {}\n",
    "    for s in S:\n",
    "        V[s] = 0.0\n",
    "    \n",
    "    while True:\n",
    "        delta = 0\n",
    "        # evaluation for each state\n",
    "        for s in S:\n",
    "            v = 0\n",
    "            # List all posible next state and probabilites in P_ns\n",
    "            P_ns = fnext_state(s, policy[s], pe)\n",
    "            for key in P_ns.keys():\n",
    "                # Calculate the expected value\n",
    "                ns = P_ns[key]                \n",
    "                v = v + list(key)[0] * (reward_f(ns) + discount_factor * V[ns])\n",
    "            # Changing value of V[s]\n",
    "            delta = max(delta, np.abs(v - V[s]))\n",
    "            V[s] = v\n",
    "        # Stop evaluating if changing less than theta\n",
    "        if delta < accuracy:\n",
    "            break\n",
    "    return V"
   ]
  },
  {
   "cell_type": "code",
   "execution_count": 13,
   "metadata": {},
   "outputs": [
    {
     "name": "stdout",
     "output_type": "stream",
     "text": [
      "The value V[((1, 4, 6))] is: -597.1163982764241\n"
     ]
    }
   ],
   "source": [
    "# 2.3e Trajectory starting at x=1,y=4,h=6, pe=0 with discount_factor = 0.9\n",
    "pe = 0\n",
    "discount_factor=0.9\n",
    "accuracy = 0.001\n",
    "V = policy_eval(policy,reward, pe, discount_factor, accuracy)\n",
    "s0=(1,4,6)\n",
    "print(\"The value V[(%s)] is:\" % str(s0), V[s0])"
   ]
  },
  {
   "cell_type": "code",
   "execution_count": 14,
   "metadata": {},
   "outputs": [],
   "source": [
    "# 2.3f Function to calculate an optimal policy, given V, reward function, pe, discount_factor\n",
    "# return optimal policy by one step lookahead\n",
    "# complexity Ns*Na\n",
    "def one_step_optimal(V, reward_f, pe, discount_factor):    \n",
    "    policy = {}\n",
    "    # scan all states in state space\n",
    "    for s in S:\n",
    "        action_values = np.zeros(Na)\n",
    "        # Look at one step ahead for possible next actions\n",
    "        for i, a in enumerate(A): # i: index number, a: (move, turn)\n",
    "            # List all possible next states\n",
    "            P_ns = fnext_state(s, a, pe)\n",
    "            for key in P_ns.keys():\n",
    "                ns = P_ns[key]\n",
    "                # Expected value\n",
    "                action_values[i] += list(key)[0] * (reward_f(ns) + discount_factor * V[ns])                \n",
    "                \n",
    "        # Find the best action\n",
    "        best_action = np.argmax(action_values)\n",
    "        policy[s] = A[best_action]        \n",
    "    return policy"
   ]
  },
  {
   "cell_type": "code",
   "execution_count": 15,
   "metadata": {},
   "outputs": [],
   "source": [
    "# 2.3g Policy Iteration Algorithm\n",
    "# given initial policy, reward function, pe, discount_factor\n",
    "# return policy and optimal value\n",
    "# note that this function have complexity of (# of iteration)*Na*Ns^2 (the times call next_state() function)\n",
    "# the speed of calculation is depent a lot in how fast you calculate for next state.\n",
    "def p_iter(policy, reward_f, pe, discount_factor):\n",
    "    while True:\n",
    "        # Evaluate the current policy\n",
    "        V = policy_eval(policy, reward_f, pe, discount_factor)\n",
    "        # Update policy using one_step_optimal function\n",
    "        policy_new = one_step_optimal(V, reward_f, pe, discount_factor)\n",
    "        # if new policy != old policy, continue iterate policy\n",
    "        # if they are equal means we have found optimal policy, get out of iteration\n",
    "        if policy_new != policy:\n",
    "            policy = policy_new\n",
    "        else:\n",
    "            return policy, V        \n",
    "        "
   ]
  },
  {
   "cell_type": "code",
   "execution_count": 16,
   "metadata": {},
   "outputs": [
    {
     "data": {
      "image/png": "[encoded data removed]",
      "text/plain": [
       "<Figure size 432x432 with 1 Axes>"
      ]
     },
     "metadata": {
      "needs_background": "light"
     },
     "output_type": "display_data"
    },
    {
     "name": "stdout",
     "output_type": "stream",
     "text": [
      "Trajectory from (1, 4, 6) to the [4, 4] is:  [[(1, 4, 6), (1, -1)], [(1, 3, 5), (1, -1)], [(1, 2, 4), (1, 0)], [(2, 2, 4), (1, 0)], [(3, 2, 4), (1, 1)], [(4, 2, 5), (-1, 0)], [(4, 3, 5), (-1, 0)], [(4, 4, 5), (0, 0)]]\n",
      "Iteration time = 8.7440824508667 s\n"
     ]
    }
   ],
   "source": [
    "# 2.3h and 2.3i \n",
    "import time\n",
    "\n",
    "# Compute the optimal policy\n",
    "start_time = time.time()\n",
    "policy = init_policy()\n",
    "policy_optimal, V_optimal = p_iter(policy, reward, 0.0, 0.9)\n",
    "\n",
    "# plot the trajectory with optimal policy\n",
    "s0 = (1, 4, 6)\n",
    "traj = trajectory(policy_optimal, s0, goal, 0.0)\n",
    "end_time = time.time()\n",
    "print(\"Trajectory from %s to the %s is: \" %(str(s0), str(goal)), traj)\n",
    "print(\"Iteration time = %s s\" %str(end_time - start_time))"
   ]
  },
  {
   "cell_type": "code",
   "execution_count": 17,
   "metadata": {},
   "outputs": [],
   "source": [
    "# 2.4a Value iteration with initial condition V(s)=0\n",
    "# the time calling next_state() function is Ns*Na*(# of iteration) faster than (Ns^2*(# of iteration) in 2.3g)\n",
    "def value_iter(policy, reward_f, pe, discount_factor, accuracy=0.01):\n",
    "    # Start with initial condition V(s)=0\n",
    "    V = {}\n",
    "    for s in S:\n",
    "        V[s] = 0.0\n",
    "        \n",
    "    while True:\n",
    "        delta = 0\n",
    "        # Scan all state in State Space\n",
    "        for s in S:\n",
    "            action_values = np.zeros(Na)\n",
    "            # Look at the possible next actions\n",
    "            for i, a in enumerate(A):\n",
    "                # List all possible next states\n",
    "                P_ns = fnext_state(s, a, pe)\n",
    "                for key in P_ns.keys():\n",
    "                    ns = P_ns[key]\n",
    "                    # Calculate the action value\n",
    "                    action_values[i] += list(key)[0] * (reward_f(ns) + discount_factor * V[ns])\n",
    "            # Best one-step lookahead \n",
    "            best_action_value = np.max(action_values)\n",
    "            best_action = np.argmax(action_values)\n",
    "            policy[s] = A[best_action] \n",
    "\n",
    "            # Calculate delta\n",
    "            delta = max(delta, np.abs(best_action_value - V[s]))\n",
    "            # Update the value function\n",
    "            V[s] = best_action_value\n",
    "\n",
    "        # stop condition\n",
    "        if delta < accuracy:\n",
    "            break\n",
    "    return policy, V"
   ]
  },
  {
   "cell_type": "code",
   "execution_count": 18,
   "metadata": {},
   "outputs": [
    {
     "data": {
      "image/png": "[encoded data removed]",
      "text/plain": [
       "<Figure size 432x432 with 1 Axes>"
      ]
     },
     "metadata": {
      "needs_background": "light"
     },
     "output_type": "display_data"
    },
    {
     "name": "stdout",
     "output_type": "stream",
     "text": [
      "Trajectory from (1, 4, 6) to the [4, 4] is:  [[(1, 4, 6), (1, -1)], [(1, 3, 5), (1, -1)], [(1, 2, 4), (1, 0)], [(2, 2, 4), (1, 0)], [(3, 2, 4), (1, 1)], [(4, 2, 5), (-1, 0)], [(4, 3, 5), (-1, 0)], [(4, 4, 5), (0, 0)]]\n",
      "Iteration time = 4.765152931213379 s\n"
     ]
    }
   ],
   "source": [
    "# 2.4b and 2.4c \n",
    "import time\n",
    "\n",
    "# Compute the optimal policy\n",
    "start_time = time.time()\n",
    "policy = init_policy()\n",
    "policy_optimal, V_optimal = value_iter(policy, reward, 0.0, 0.9)\n",
    "\n",
    "# plot the trajectory with optimal policy\n",
    "s0 = (1, 4, 6)\n",
    "traj = trajectory(policy_optimal, s0, goal, 0.0)\n",
    "end_time = time.time()\n",
    "print(\"Trajectory from %s to the %s is: \" %(str(s0), str(goal)), traj)\n",
    "print(\"Iteration time = %s s\" %str(end_time - start_time))"
   ]
  },
  {
   "cell_type": "code",
   "execution_count": 19,
   "metadata": {},
   "outputs": [
    {
     "data": {
      "image/png": "[encoded data removed]",
      "text/plain": [
       "<Figure size 432x432 with 1 Axes>"
      ]
     },
     "metadata": {
      "needs_background": "light"
     },
     "output_type": "display_data"
    },
    {
     "name": "stdout",
     "output_type": "stream",
     "text": [
      "Trajectory from (1, 4, 6) to the [4, 4] is:  [[(1, 4, 6), (1, -1)], [(1, 3, 5), (1, -1)], [(1, 2, 4), (1, 0)], [(2, 2, 4), (1, 0)], [(3, 2, 4), (1, 1)], [(4, 2, 5), (-1, 1)], [(4, 3, 6), (-1, 0)], [(4, 4, 6), (0, 0)]]\n"
     ]
    }
   ],
   "source": [
    "# 2.5a Plot trajectory starting at x=1,y=4,h=6, pe=0.1\n",
    "# Compute optimal policy with pe=0.1\n",
    "policy = init_policy()\n",
    "policy_optimal, V_optimal = value_iter(policy, reward, pe = 0.1, discount_factor = 0.9)\n",
    "\n",
    "# plot the trajectory with optimal policy\n",
    "s0 = (1, 4, 6)\n",
    "traj = trajectory(policy_optimal, s0, goal, 0.1)\n",
    "print(\"Trajectory from %s to the %s is: \" %(str(s0), str(goal)), traj)"
   ]
  },
  {
   "cell_type": "code",
   "execution_count": 21,
   "metadata": {},
   "outputs": [
    {
     "data": {
      "image/png": "[encoded data removed]",
      "text/plain": [
       "<Figure size 432x432 with 1 Axes>"
      ]
     },
     "metadata": {
      "needs_background": "light"
     },
     "output_type": "display_data"
    },
    {
     "name": "stdout",
     "output_type": "stream",
     "text": [
      "Trajectory from (1, 4, 6) to the [4, 4] is:  [[(1, 4, 6), (1, -1)], [(1, 3, 5), (1, -1)], [(1, 2, 4), (1, 1)], [(2, 2, 5), (1, 0)], [(2, 1, 5), (-1, -1)], [(2, 2, 4), (1, 0)], [(3, 2, 4), (1, 1)], [(4, 2, 5), (-1, 0)], [(4, 3, 5), (-1, 1)], [(4, 4, 6), (0, 0)]]\n"
     ]
    }
   ],
   "source": [
    "# 2.5b Modify the reward function that just only reward 1 at the goal 4,4 with direction 5,6,7, otherwise zero\n",
    "# Recompute 2.3c with new reward function and pe=0.25\n",
    "# New reward function\n",
    "def reward2(s):\n",
    "    # Build reward map\n",
    "    R_map = [(-100,-100,-100,-100,-100,-100),\n",
    "             (-100,0   ,0   ,-10 , 0  ,-100),\n",
    "             (-100,0   ,0   ,-10 , 0  ,-100),\n",
    "             (-100,0   ,0   ,0   , 0  ,-100),\n",
    "             (-100,0   ,0   ,0   , 0  ,-100),\n",
    "             (-100,-100,-100,-100,-100,-100)]\n",
    "    if (s[0] == 4) and (s[1] == 4) and (s[2] == 6):\n",
    "        return 1;\n",
    "    return R_map[W-s[1]-1][s[0]]\n",
    "\n",
    "# Compute optimal policy with pe=0.25\n",
    "policy = init_policy()\n",
    "policy_optimal, V_optimal = value_iter(policy, reward2, pe = 0.25, discount_factor = 0.9)\n",
    "\n",
    "# plot the trajectory with optimal policy\n",
    "s0 = (1, 4, 6)\n",
    "traj = trajectory(policy_optimal, s0, goal, 0.25)\n",
    "print(\"Trajectory from %s to the %s is: \" %(str(s0), str(goal)), traj)"
   ]
  },
  {
   "cell_type": "code",
   "execution_count": null,
   "metadata": {},
   "outputs": [],
   "source": []
  }
 ],
 "metadata": {
  "kernelspec": {
   "display_name": "Python 3",
   "language": "python",
   "name": "python3"
  },
  "language_info": {
   "codemirror_mode": {
    "name": "ipython",
    "version": 3
   },
   "file_extension": ".py",
   "mimetype": "text/x-python",
   "name": "python",
   "nbconvert_exporter": "python",
   "pygments_lexer": "ipython3",
   "version": "3.7.1"
  }
 },
 "nbformat": 4,
 "nbformat_minor": 2
}
